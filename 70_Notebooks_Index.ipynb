{
 "cells": [
  {
   "cell_type": "markdown",
   "metadata": {},
   "source": [
    "# CS 70 - Discrete Mathematics & Probability Theory\n",
    "\n",
    "## Programming Demos for various Concepts\n",
    "\n",
    "These notebooks will serve as programming demos for various concepts covered in CS 70, which will help you understand certain concepts more clearly, in addition to what is covered in the notes. \n",
    "\n",
    "The following provides a list of notebooks that have been developed for various topics. <br>\n",
    "Notebook 1 - Propose-and-Reject Algorithm (Stable Matching) <br>\n",
    "Notebook 2 - Graph Theory <br>\n",
    "Notebook 3 - "
   ]
  },
  {
   "cell_type": "code",
   "execution_count": null,
   "metadata": {},
   "outputs": [],
   "source": []
  }
 ],
 "metadata": {
  "kernelspec": {
   "display_name": "Python 3",
   "language": "python",
   "name": "python3"
  },
  "language_info": {
   "codemirror_mode": {
    "name": "ipython",
    "version": 3
   },
   "file_extension": ".py",
   "mimetype": "text/x-python",
   "name": "python",
   "nbconvert_exporter": "python",
   "pygments_lexer": "ipython3",
   "version": "3.7.5"
  }
 },
 "nbformat": 4,
 "nbformat_minor": 2
}
